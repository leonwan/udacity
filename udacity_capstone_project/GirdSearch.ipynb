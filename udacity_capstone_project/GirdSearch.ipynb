{
 "cells": [
  {
   "cell_type": "code",
   "execution_count": null,
   "metadata": {},
   "outputs": [],
   "source": [
    "# Use scikit-learn to grid search the batch size and epochs \n",
    "\n",
    "import numpy as np\n",
    "from sklearn.grid_search import GridSearchCV \n",
    "from keras.models import Sequential \n",
    "from keras.layers import Dense \n",
    "from keras.wrappers.scikit_learn import KerasClassifier \n",
    "\n",
    "# Function to create model, required for KerasClassifier \n",
    "\n",
    "def create_model(optimizer='adam', dropout_rate=0.5): \n",
    "\n",
    "    # create model \n",
    "    model = Sequential() \n",
    "    model.add(Dense(12, input_dim=8, activation='relu')) \n",
    "    model.add(Dense(1, activation='sigmoid')) \n",
    "    # Compile model \n",
    "    model.compile(loss='binary_crossentropy', optimizer=optimizer, metrics=['accuracy']) \n",
    "    return model \n",
    "\n",
    "# fix random seed for reproducibility \n",
    "seed = 1000\n",
    "np.random.seed(seed) \n",
    "\n",
    "# create model \n",
    "model = KerasClassifier(build_fn=create_model, nb_epoch=100, batch_size=10, verbose=0) \n",
    "\n",
    "# define the grid search parameters \n",
    "optimizer = ['SGD', 'RMSprop', 'Adagrad', 'Adadelta', 'Adam', 'Adamax', 'Nadam'] \n",
    "dropout_rate = [0.0, 0.1, 0.2, 0.3, 0.4, 0.5, 0.6, 0.7, 0.8, 0.9] \n",
    "batch_size = [16, 32, 64, 128] \n",
    "epochs = [10, 30, 60, 100]\n",
    "\n",
    "param_grid = dict(optimizer=optimizer) \n",
    "grid = GridSearchCV(estimator=model, param_grid=param_grid, n_jobs=-1) \n",
    "\n",
    "grid_result = grid.fit(X, Y) \n",
    "\n",
    "# summarize results \n",
    "print(\"Best: %f using %s\" % (grid_result.best_score_, grid_result.best_params_)) \n",
    "\n",
    "for params, mean_score, scores in grid_result.grid_scores_: \n",
    "\n",
    "    print(\"%f (%f) with: %r\" % (scores.mean(), scores.std(), params))\n"
   ]
  }
 ],
 "metadata": {
  "kernelspec": {
   "display_name": "Python 3",
   "language": "python",
   "name": "python3"
  },
  "language_info": {
   "codemirror_mode": {
    "name": "ipython",
    "version": 3
   },
   "file_extension": ".py",
   "mimetype": "text/x-python",
   "name": "python",
   "nbconvert_exporter": "python",
   "pygments_lexer": "ipython3",
   "version": "3.6.5"
  }
 },
 "nbformat": 4,
 "nbformat_minor": 2
}
