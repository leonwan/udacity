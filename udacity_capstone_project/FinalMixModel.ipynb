{
 "cells": [
  {
   "cell_type": "code",
   "execution_count": 1,
   "metadata": {},
   "outputs": [
    {
     "name": "stderr",
     "output_type": "stream",
     "text": [
      "/data/wanlijia/anaconda3/lib/python3.6/site-packages/h5py/__init__.py:36: FutureWarning: Conversion of the second argument of issubdtype from `float` to `np.floating` is deprecated. In future, it will be treated as `np.float64 == np.dtype(float).type`.\n",
      "  from ._conv import register_converters as _register_converters\n",
      "Using TensorFlow backend.\n"
     ]
    }
   ],
   "source": [
    "import numpy as np\n",
    "np.random.seed(19906)\n",
    "import pandas as pd\n",
    "import matplotlib.pyplot as plt\n",
    "from tqdm import tqdm\n",
    "from keras.preprocessing import image\n",
    "import cv2\n",
    "import os\n",
    "import h5py\n",
    "%matplotlib inline\n",
    "from keras.preprocessing.image import ImageDataGenerator, array_to_img, img_to_array, load_img\n",
    "from keras.callbacks import EarlyStopping, ModelCheckpoint\n",
    "from keras.models import *\n",
    "from keras.layers import *\n",
    "from keras.layers.core import Dropout\n",
    "from keras.optimizers import Adam, SGD, RMSprop\n",
    "from keras.regularizers import l2\n",
    "from keras.applications.inception_v3 import InceptionV3, preprocess_input as inceptionv3_preinput\n",
    "from keras.applications.xception import Xception, preprocess_input as xception_preinput\n",
    "from keras.applications.inception_resnet_v2 import InceptionResNetV2, preprocess_input as inception_resnet_preinput\n",
    "from sklearn.utils import shuffle\n",
    "from sklearn.model_selection import train_test_split"
   ]
  },
  {
   "cell_type": "code",
   "execution_count": 2,
   "metadata": {},
   "outputs": [],
   "source": [
    "root_path = \"/data/wanlijia/data/distracted_driver_detection/unzip_data/\"\n",
    "train_dir = root_path + \"imgs/train2\"\n",
    "val_dir = root_path + \"imgs/val2\"\n",
    "test_dir = root_path + \"imgs/test1\"\n",
    "saved_weights_dir = \"/data/wanlijia/code/udacity_homework/machinelearning2/graduation_project/saved_weights\""
   ]
  },
  {
   "cell_type": "markdown",
   "metadata": {},
   "source": [
    "加载特征向量"
   ]
  },
  {
   "cell_type": "code",
   "execution_count": 3,
   "metadata": {},
   "outputs": [],
   "source": [
    "def one_hot_encode(y):\n",
    "    l = list()\n",
    "    for item in y:\n",
    "        c = [0. for i in range(10)]\n",
    "        c[item] = 1.\n",
    "        l.append(c)\n",
    "    return np.array(l)"
   ]
  },
  {
   "cell_type": "code",
   "execution_count": 4,
   "metadata": {},
   "outputs": [],
   "source": [
    "premodels = [\n",
    "    \"bottleneck_noaug_inception_v3.h5\",\n",
    "    \"bottleneck_noaug_xception.h5\",\n",
    "    \"bottleneck_noaug_densenet201.h5\"\n",
    "]\n",
    "\n",
    "X_train = []\n",
    "X_valid = []\n",
    "\n",
    "for filename in premodels:\n",
    "    with h5py.File(os.path.join(saved_weights_dir, filename), \"r\") as h:\n",
    "        X_train.append(np.array(h[\"train\"]))\n",
    "        X_valid.append(np.array(h[\"valid\"]))\n",
    "        y_train = np.array(h[\"label\"])\n",
    "        y_valid = np.array(h[\"valid_label\"])\n",
    "        \n",
    "X_train = np.concatenate(X_train, axis=1)\n",
    "X_valid = np.concatenate(X_valid, axis=1)\n",
    "\n",
    "X_train, y_train = shuffle(X_train, y_train)\n",
    "y_train = one_hot_encode(y_train)\n",
    "X_valid, y_valid = shuffle(X_valid, y_valid)\n",
    "y_valid = one_hot_encode(y_valid)"
   ]
  },
  {
   "cell_type": "code",
   "execution_count": 5,
   "metadata": {},
   "outputs": [
    {
     "name": "stdout",
     "output_type": "stream",
     "text": [
      "(20741, 3968)\n",
      "(20741, 10)\n"
     ]
    }
   ],
   "source": [
    "print(X_train.shape)\n",
    "print(y_train.shape)"
   ]
  },
  {
   "cell_type": "markdown",
   "metadata": {},
   "source": [
    "构建模型"
   ]
  },
  {
   "cell_type": "code",
   "execution_count": 6,
   "metadata": {},
   "outputs": [],
   "source": [
    "input_tensor = Input(X_train.shape[1:])\n",
    "x = input_tensor\n",
    "x = Dropout(0.5)(x)\n",
    "x = Dense(10, activation='softmax')(x)\n",
    "mix_model = Model(input_tensor, x)\n",
    "\n",
    "op = Adam(lr=0.00001, decay=1e-8)\n",
    "mix_model.compile(optimizer=op, loss='categorical_crossentropy', metrics=['accuracy'])"
   ]
  },
  {
   "cell_type": "markdown",
   "metadata": {},
   "source": [
    "开始训练"
   ]
  },
  {
   "cell_type": "code",
   "execution_count": 7,
   "metadata": {
    "scrolled": true
   },
   "outputs": [
    {
     "name": "stdout",
     "output_type": "stream",
     "text": [
      "Will save weight file: /data/wanlijia/code/udacity_homework/machinelearning2/graduation_project/saved_weights/mixed_model.h5\n",
      "Train on 20741 samples, validate on 1583 samples\n",
      "Epoch 1/10\n",
      "20741/20741 [==============================] - 8s 378us/step - loss: 2.1117 - acc: 0.2758 - val_loss: 1.0352 - val_acc: 0.7757\n",
      "\n",
      "Epoch 00001: val_loss improved from inf to 1.03519, saving model to /data/wanlijia/code/udacity_homework/machinelearning2/graduation_project/saved_weights/mixed_model.h5\n",
      "Epoch 2/10\n",
      "20741/20741 [==============================] - 0s 23us/step - loss: 0.8967 - acc: 0.7512 - val_loss: 0.3258 - val_acc: 0.9994\n",
      "\n",
      "Epoch 00002: val_loss improved from 1.03519 to 0.32579, saving model to /data/wanlijia/code/udacity_homework/machinelearning2/graduation_project/saved_weights/mixed_model.h5\n",
      "Epoch 3/10\n",
      "20741/20741 [==============================] - 0s 24us/step - loss: 0.3896 - acc: 0.9571 - val_loss: 0.1277 - val_acc: 1.0000\n",
      "\n",
      "Epoch 00003: val_loss improved from 0.32579 to 0.12767, saving model to /data/wanlijia/code/udacity_homework/machinelearning2/graduation_project/saved_weights/mixed_model.h5\n",
      "Epoch 4/10\n",
      "20741/20741 [==============================] - 1s 25us/step - loss: 0.2044 - acc: 0.9908 - val_loss: 0.0648 - val_acc: 1.0000\n",
      "\n",
      "Epoch 00004: val_loss improved from 0.12767 to 0.06477, saving model to /data/wanlijia/code/udacity_homework/machinelearning2/graduation_project/saved_weights/mixed_model.h5\n",
      "Epoch 5/10\n",
      "20741/20741 [==============================] - 1s 24us/step - loss: 0.1237 - acc: 0.9969 - val_loss: 0.0390 - val_acc: 1.0000\n",
      "\n",
      "Epoch 00005: val_loss improved from 0.06477 to 0.03895, saving model to /data/wanlijia/code/udacity_homework/machinelearning2/graduation_project/saved_weights/mixed_model.h5\n",
      "Epoch 6/10\n",
      "20741/20741 [==============================] - 0s 24us/step - loss: 0.0833 - acc: 0.9985 - val_loss: 0.0260 - val_acc: 1.0000\n",
      "\n",
      "Epoch 00006: val_loss improved from 0.03895 to 0.02602, saving model to /data/wanlijia/code/udacity_homework/machinelearning2/graduation_project/saved_weights/mixed_model.h5\n",
      "Epoch 7/10\n",
      "20741/20741 [==============================] - 1s 24us/step - loss: 0.0602 - acc: 0.9991 - val_loss: 0.0186 - val_acc: 1.0000\n",
      "\n",
      "Epoch 00007: val_loss improved from 0.02602 to 0.01864, saving model to /data/wanlijia/code/udacity_homework/machinelearning2/graduation_project/saved_weights/mixed_model.h5\n",
      "Epoch 8/10\n",
      "20741/20741 [==============================] - 0s 24us/step - loss: 0.0464 - acc: 0.9992 - val_loss: 0.0140 - val_acc: 1.0000\n",
      "\n",
      "Epoch 00008: val_loss improved from 0.01864 to 0.01401, saving model to /data/wanlijia/code/udacity_homework/machinelearning2/graduation_project/saved_weights/mixed_model.h5\n",
      "Epoch 9/10\n",
      "20741/20741 [==============================] - 0s 24us/step - loss: 0.0363 - acc: 0.9993 - val_loss: 0.0109 - val_acc: 1.0000\n",
      "\n",
      "Epoch 00009: val_loss improved from 0.01401 to 0.01091, saving model to /data/wanlijia/code/udacity_homework/machinelearning2/graduation_project/saved_weights/mixed_model.h5\n",
      "Epoch 10/10\n",
      "20741/20741 [==============================] - 0s 24us/step - loss: 0.0295 - acc: 0.9995 - val_loss: 0.0087 - val_acc: 1.0000\n",
      "\n",
      "Epoch 00010: val_loss improved from 0.01091 to 0.00872, saving model to /data/wanlijia/code/udacity_homework/machinelearning2/graduation_project/saved_weights/mixed_model.h5\n"
     ]
    }
   ],
   "source": [
    "epochs = 10\n",
    "batch_size = 128\n",
    "\n",
    "save_file = saved_weights_dir + '/mixed_model.h5'\n",
    "print(\"Will save weight file:\", save_file)\n",
    "callbacks = [\n",
    "    ModelCheckpoint(save_file, monitor=\"val_loss\", mode=\"min\", save_best_only=True, verbose=1, period=1)\n",
    "]\n",
    "\n",
    "history = mix_model.fit(X_train, y_train, batch_size=batch_size, epochs=epochs, validation_data=(X_valid,y_valid), callbacks=callbacks)"
   ]
  },
  {
   "cell_type": "markdown",
   "metadata": {},
   "source": [
    "绘制图型"
   ]
  },
  {
   "cell_type": "code",
   "execution_count": 8,
   "metadata": {},
   "outputs": [
    {
     "data": {
      "image/png": "[encoded data removed]",
      "text/plain": [
       "<Figure size 864x288 with 2 Axes>"
      ]
     },
     "metadata": {},
     "output_type": "display_data"
    }
   ],
   "source": [
    "# 绘制图型\n",
    "plt.figure(figsize=(12, 4))\n",
    "\n",
    "plt.subplot(1, 2, 1)\n",
    "plt.title('Training and validation loss')\n",
    "plt.ylabel('loss')\n",
    "plt.xlabel('epoch')\n",
    "plt.plot(history.history['loss'])\n",
    "plt.plot(history.history['val_loss'])\n",
    "plt.legend(['train', 'validation'], loc='upper left')\n",
    "\n",
    "plt.subplot(1, 2, 2)\n",
    "plt.plot(history.history['acc'])\n",
    "plt.plot(history.history['val_acc'])\n",
    "plt.title('Training and validation acc')\n",
    "plt.ylabel('acc')\n",
    "plt.xlabel('epoch')\n",
    "plt.legend(['train', 'validation'], loc='upper left')\n",
    "\n",
    "plt.show()"
   ]
  },
  {
   "cell_type": "markdown",
   "metadata": {},
   "source": [
    "开始预测"
   ]
  },
  {
   "cell_type": "markdown",
   "metadata": {},
   "source": [
    "加载测试集特征向量"
   ]
  },
  {
   "cell_type": "code",
   "execution_count": 9,
   "metadata": {},
   "outputs": [
    {
     "name": "stdout",
     "output_type": "stream",
     "text": [
      "Found 79726 images belonging to 1 classes.\n"
     ]
    }
   ],
   "source": [
    "test_premodels = [\n",
    "    \"bottleneck_test_inception_v3.h5\",\n",
    "    \"bottleneck_test_xception.h5\",\n",
    "    \"bottleneck_test_densenet201.h5\"\n",
    "]\n",
    "\n",
    "X_test = []\n",
    "\n",
    "for filename in test_premodels:\n",
    "    with h5py.File(os.path.join(saved_weights_dir, filename), 'r') as h:\n",
    "        X_test.append(np.array(h['test']))\n",
    "        \n",
    "X_test = np.concatenate(X_test, axis=1)\n",
    "\n",
    "test_datagen = ImageDataGenerator()\n",
    "test_generator = test_datagen.flow_from_directory(test_dir, (299, 299), shuffle=False, \n",
    "                                         batch_size=128, class_mode=None)"
   ]
  },
  {
   "cell_type": "markdown",
   "metadata": {},
   "source": [
    "预测并输出可提交kaggle的结果文件"
   ]
  },
  {
   "cell_type": "code",
   "execution_count": 10,
   "metadata": {},
   "outputs": [
    {
     "name": "stdout",
     "output_type": "stream",
     "text": [
      "79726/79726 [==============================] - 2s 24us/step\n",
      "y_pred shape (79726, 10)\n",
      "              img        c0     c1        c2        c3        c4        c5  \\\n",
      "0       img_1.jpg  0.005000  0.005  0.005000  0.005000  0.005000  0.993897   \n",
      "1      img_10.jpg  0.005000  0.005  0.005000  0.005000  0.005000  0.992102   \n",
      "2     img_100.jpg  0.968936  0.005  0.005000  0.005000  0.005000  0.005000   \n",
      "3    img_1000.jpg  0.005000  0.005  0.015074  0.005000  0.008144  0.005000   \n",
      "4  img_100000.jpg  0.005000  0.005  0.005000  0.985693  0.005000  0.005000   \n",
      "\n",
      "      c6     c7      c8        c9  \n",
      "0  0.005  0.005  0.0050  0.005000  \n",
      "1  0.005  0.005  0.0050  0.005000  \n",
      "2  0.005  0.005  0.0050  0.011194  \n",
      "3  0.005  0.005  0.9473  0.013501  \n",
      "4  0.005  0.005  0.0050  0.005000  \n",
      "predict done.\n"
     ]
    }
   ],
   "source": [
    "sub_df = pd.read_csv(root_path + \"sample_submission.csv\")\n",
    "\n",
    "y_preds = mix_model.predict(X_test, verbose=1)\n",
    "y_preds = y_preds.clip(min=0.005, max=0.995)\n",
    "print(\"y_pred shape {}\".format(y_preds.shape))\n",
    "\n",
    "for i, fname in enumerate(test_generator.filenames):\n",
    "    y_pred = y_preds[i]\n",
    "    for k, c in enumerate(y_pred):\n",
    "        sub_df.at[i, 'c'+str(k)] = c\n",
    "\n",
    "print(sub_df.head())\n",
    "\n",
    "sub_df.to_csv(root_path + 'mix_pred.csv', index=None)\n",
    "print(\"predict done.\")"
   ]
  },
  {
   "cell_type": "markdown",
   "metadata": {},
   "source": [
    "提交Kaggle后得分：private: 0.22399, public: 0.24394"
   ]
  }
 ],
 "metadata": {
  "kernelspec": {
   "display_name": "Python 3",
   "language": "python",
   "name": "python3"
  },
  "language_info": {
   "codemirror_mode": {
    "name": "ipython",
    "version": 3
   },
   "file_extension": ".py",
   "mimetype": "text/x-python",
   "name": "python",
   "nbconvert_exporter": "python",
   "pygments_lexer": "ipython3",
   "version": "3.6.5"
  }
 },
 "nbformat": 4,
 "nbformat_minor": 2
}
